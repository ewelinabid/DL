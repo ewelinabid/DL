{
 "cells": [
  {
   "cell_type": "markdown",
   "metadata": {
    "id": "HAva8TnYFtFu"
   },
   "source": [
    "# Contents and why we need this lab\n",
    "\n",
    "This lab is about implementing neural networks yourself before we start using other frameworks which hide some of the computation from you. It builds on the first lab where you derived the equations for neural network forward and backward propagation and gradient descent parameter updates. \n",
    "\n",
    "All the frameworks for deep learning you will meet from now on uses automatic differentiation (autodiff) so you don't have to code the backward step yourself. In this version of this lab you will develop your own autodif implementation. We also have a [version](https://github.com/DeepLearningDTU/02456-deep-learning-with-PyTorch/blob/master/2_Feedforward_NumPy/2.1-FNN-NumPy.ipynb) of this lab where you have to code the backward pass explicitly in Numpy."
   ]
  },
  {
   "cell_type": "markdown",
   "metadata": {
    "id": "sCa7HzwpFtFy"
   },
   "source": [
    "# External sources of information\n",
    "\n",
    "1. Jupyter notebook. You can find more information about Jupyter notebooks [here](https://jupyter.org/). It will come as part of the [Anaconda](https://www.anaconda.com/) Python installation. \n",
    "2. [NumPy](https://numpy.org/). Part of Anaconda distribution. If you already know how to program most things about Python and NumPy can be found through Google search.\n",
    "3. [Nanograd](https://github.com/rasmusbergpalm/nanograd) is a minimalistic version of autodiff developed by Rasmus Berg Palm that we use for our framework.\n"
   ]
  },
  {
   "cell_type": "markdown",
   "metadata": {
    "id": "1SjiIp-TFtF0"
   },
   "source": [
    "# This notebook will follow the next steps:\n",
    "\n",
    "1. Nanograd automatic differentiation framework\n",
    "2. Finite difference method\n",
    "3. Data generation\n",
    "4. Defining and initializing the network\n",
    "5. Forward pass\n",
    "6. Training loop \n",
    "7. Testing your model\n",
    "8. Further extensions"
   ]
  },
  {
   "cell_type": "markdown",
   "metadata": {
    "id": "OyXeAA-HuT7s"
   },
   "source": [
    "# Nanograd automatic differention framework"
   ]
  },
  {
   "cell_type": "markdown",
   "metadata": {
    "id": "k6UWKCLKubgA"
   },
   "source": [
    "The [Nanograd](https://github.com/rasmusbergpalm/nanograd) framework defines a class Var which both holds a value and gradient value that we can use to store the intermediate values when we apply the chain rule of differentiation."
   ]
  },
  {
   "cell_type": "code",
   "execution_count": 255,
   "metadata": {
    "id": "Jd4CoEBNzNWS"
   },
   "outputs": [],
   "source": [
    "# Copy and pasted from https://github.com/rasmusbergpalm/nanograd/blob/main/nanograd.py\n",
    "\n",
    "from math import exp, log\n",
    "\n",
    "class Var:\n",
    "    \"\"\"\n",
    "    A variable which holds a float and enables gradient computations.\n",
    "    \"\"\"\n",
    "\n",
    "    def __init__(self, val: float, grad_fn=lambda: []):\n",
    "        assert type(val) == float\n",
    "        self.v = val\n",
    "        self.grad_fn = grad_fn\n",
    "        self.grad = 0.0\n",
    "\n",
    "    def backprop(self, bp):\n",
    "        self.grad += bp\n",
    "        for input, grad in self.grad_fn():\n",
    "            input.backprop(grad * bp)\n",
    "\n",
    "    def backward(self):\n",
    "        self.backprop(1.0)\n",
    "\n",
    "    def __add__(self: 'Var', other: 'Var') -> 'Var':\n",
    "        return Var(self.v + other.v, lambda: [(self, 1.0), (other, 1.0)])\n",
    "\n",
    "    def __mul__(self: 'Var', other: 'Var') -> 'Var':\n",
    "        return Var(self.v * other.v, lambda: [(self, other.v), (other, self.v)])\n",
    "\n",
    "    def __pow__(self, power):\n",
    "        assert type(power) in {float, int}, \"power must be float or int\"\n",
    "        return Var(self.v ** power, lambda: [(self, power * self.v ** (power - 1))])\n",
    "\n",
    "    def __neg__(self: 'Var') -> 'Var':\n",
    "        return Var(-1.0) * self\n",
    "\n",
    "    def __sub__(self: 'Var', other: 'Var') -> 'Var':\n",
    "        return self + (-other)\n",
    "\n",
    "    def __truediv__(self: 'Var', other: 'Var') -> 'Var':\n",
    "        return self * other ** -1\n",
    "\n",
    "    def __repr__(self):\n",
    "        return \"Var(v=%.4f, grad=%.4f)\" % (self.v, self.grad)\n",
    "    \n",
    "    def exp(self):\n",
    "        return Var(exp(self.v), lambda: [(self, exp(self.v))])\n",
    "\n",
    "    def log(self):\n",
    "        return Var(log(self.v), lambda: [(self, self.v ** -1)])\n",
    "\n",
    "    def relu(self):\n",
    "        return Var(self.v if self.v > 0.0 else 0.0, lambda: [(self, 1.0 if self.v > 0.0 else 0.0)])\n",
    "    \n",
    "    def identity(self): # <- remove before distribution\n",
    "        return self\n",
    "    \n",
    "    def tanh(self):\n",
    "        return Var((exp(self.v)- exp(-self.v))/(exp(self.v)+exp(-self.v)))\n",
    "    \n",
    "    def sigmoid(self):\n",
    "        return Var(1/(1+(exp(-self.v))))\n",
    "    \n",
    "\n",
    "\n"
   ]
  },
  {
   "cell_type": "markdown",
   "metadata": {
    "id": "yDX67D6jzcte"
   },
   "source": [
    "A few examples illustrate how we can use this:"
   ]
  },
  {
   "cell_type": "code",
   "execution_count": 256,
   "metadata": {
    "colab": {
     "base_uri": "https://localhost:8080/"
    },
    "id": "xk6PeLc3zwPT",
    "outputId": "1e8c6d68-749a-44c3-8fce-0029dcc3215b"
   },
   "outputs": [
    {
     "name": "stdout",
     "output_type": "stream",
     "text": [
      "Var(v=3.0000, grad=5.0000)\n",
      "Var(v=5.0000, grad=3.0000)\n",
      "Var(v=15.0000, grad=1.0000)\n"
     ]
    }
   ],
   "source": [
    "a = Var(3.0)\n",
    "b = Var(5.0)\n",
    "f = a * b\n",
    "\n",
    "f.backward()\n",
    "\n",
    "for v in [a, b, f]:\n",
    "    print(v)"
   ]
  },
  {
   "cell_type": "code",
   "execution_count": 257,
   "metadata": {
    "colab": {
     "base_uri": "https://localhost:8080/"
    },
    "id": "JmKhYgsY0g_o",
    "outputId": "d86771b7-4166-40a5-8b35-8a46a5d7b1e9"
   },
   "outputs": [
    {
     "name": "stdout",
     "output_type": "stream",
     "text": [
      "Var(v=3.0000, grad=14.0000)\n",
      "Var(v=5.0000, grad=3.0000)\n",
      "Var(v=15.0000, grad=1.0000)\n",
      "Var(v=9.0000, grad=3.0000)\n",
      "Var(v=27.0000, grad=1.0000)\n",
      "Var(v=42.0000, grad=1.0000)\n"
     ]
    }
   ],
   "source": [
    "a = Var(3.0)\n",
    "b = Var(5.0)\n",
    "c = a * b\n",
    "d = Var(9.0)\n",
    "e = a * d\n",
    "f = c + e\n",
    "\n",
    "f.backward()\n",
    "\n",
    "for v in [a, b, c, d, e, f]:\n",
    "    print(v)"
   ]
  },
  {
   "cell_type": "markdown",
   "metadata": {
    "id": "Fe3B6uEH140p"
   },
   "source": [
    "## Exercise a) What is being calculated?\n",
    "\n",
    "Explain briefly the output of the code? What is the expression we differentiate and with respect to what variables?\n",
    "\n",
    "We differentiate the function f in respect to all of the values a, b , c, d , e ,f and then return the value along with the gradient."
   ]
  },
  {
   "cell_type": "markdown",
   "metadata": {
    "id": "q8_Q0t2I3Ruj"
   },
   "source": [
    "## Exercise b) How does the backward function work?\n",
    "\n",
    "For the first example above, execute the backward function by hand to convince yourself that it indeed calculates the gradients with respect to the variables. Write down the sequence of calls to backprop for the first example above. \n",
    "\n",
    "1. Calling the backward function causes execution of backprop function wirh argument 1.0.\n",
    "2. Initially if we run the loop for the first time self.grad=0 and now self.grad=1.0\n",
    "3. For the input f = a * b we run grad_fn() function (in this case df/da=b, df/db=a, df/df=1\n",
    "4. The results are multiplied times bp=1\n"
   ]
  },
  {
   "cell_type": "markdown",
   "metadata": {
    "id": "A5oi21W4gpeM"
   },
   "source": [
    "## Exercise c) What happens if we run backward again?\n",
    "\n",
    "Try to execute the code below. Explain what happens.\n",
    "\n",
    "\n",
    "If we run backward again, the gradient will be a sum of all gradients in each loop.\n",
    "So If we run the backward function twice, the gradient will be the sum of the gradient from the first run and the second."
   ]
  },
  {
   "cell_type": "code",
   "execution_count": 258,
   "metadata": {
    "colab": {
     "base_uri": "https://localhost:8080/"
    },
    "id": "DCtpJyr-gyX1",
    "outputId": "86d38af1-1c6e-487b-f4e6-bf29f0bb105e"
   },
   "outputs": [
    {
     "name": "stdout",
     "output_type": "stream",
     "text": [
      "Var(v=3.0000, grad=28.0000)\n",
      "Var(v=5.0000, grad=6.0000)\n",
      "Var(v=15.0000, grad=2.0000)\n",
      "Var(v=9.0000, grad=6.0000)\n",
      "Var(v=27.0000, grad=2.0000)\n",
      "Var(v=42.0000, grad=2.0000)\n"
     ]
    }
   ],
   "source": [
    "f.backward()\n",
    "\n",
    "for v in [a, b, c, d, e, f]:\n",
    "    print(v)"
   ]
  },
  {
   "cell_type": "markdown",
   "metadata": {
    "id": "e8bPVq2VhsP-"
   },
   "source": [
    "## Exercise d) Zero gradient\n",
    "\n",
    "We can zero the gradient by backpropagating a -1.0 as is shown in the example below. (If you have run backward multiple time then you also have to run the cell below an equal amount of times.) Explain what is going.\n",
    "\n",
    "input.backprop(grad * bp) - in previous examples bp=1 so we were adding grad * 1,0. By backpropagating a -1.0 we do : grad * -1,0= -grad so we subtract the grad value instead of adding."
   ]
  },
  {
   "cell_type": "code",
   "execution_count": 28,
   "metadata": {
    "colab": {
     "base_uri": "https://localhost:8080/"
    },
    "id": "OnyPDQx9lJe0",
    "outputId": "0b86a0c1-3dc7-4f72-e661-649fa7b53c3a"
   },
   "outputs": [
    {
     "name": "stdout",
     "output_type": "stream",
     "text": [
      "Var(v=2.0000, grad=0.0000)\n",
      "Var(v=5.0000, grad=6.0000)\n",
      "Var(v=15.0000, grad=2.0000)\n",
      "Var(v=9.0000, grad=6.0000)\n",
      "Var(v=27.0000, grad=2.0000)\n",
      "Var(v=42.0000, grad=2.0000)\n",
      "Var(v=2.0000, grad=0.0000)\n",
      "Var(v=5.0000, grad=3.0000)\n",
      "Var(v=15.0000, grad=1.0000)\n",
      "Var(v=9.0000, grad=3.0000)\n",
      "Var(v=27.0000, grad=1.0000)\n",
      "Var(v=42.0000, grad=1.0000)\n"
     ]
    }
   ],
   "source": [
    "a = Var(2.0)\n",
    "\n",
    "for v in [a, b, c, d, e, f]:\n",
    "    print(v)\n",
    "\n",
    "f.backprop(-1.0)\n",
    "\n",
    "for v in [a, b, c, d, e, f]:\n",
    "    print(v)"
   ]
  },
  {
   "cell_type": "markdown",
   "metadata": {
    "id": "U4057_ljNvWB"
   },
   "source": [
    "## Exercise e) Test correctness of derivatives with the finite difference method\n",
    "\n",
    "Write a small function that uses [the finite difference method](https://en.wikipedia.org/wiki/Finite_difference_method) to numerically test that backpropation implementation is working. In short we will use\n",
    "$$\n",
    "\\frac{\\partial f(a)}{\\partial a} \\approx \\frac{f(a+da)-f(a)}{da}\n",
    "$$\n",
    "for $da \\ll 1$.\n",
    "\n",
    "\n",
    "_Insert your code in the cell below._\n"
   ]
  },
  {
   "cell_type": "code",
   "execution_count": 259,
   "metadata": {
    "colab": {
     "base_uri": "https://localhost:8080/"
    },
    "id": "9TGil92lSXDN",
    "outputId": "4993ad11-b380-487c-bcf2-c29a12ef60e1"
   },
   "outputs": [
    {
     "name": "stdout",
     "output_type": "stream",
     "text": [
      "Var(v=3.0000, grad=5.0000)\n",
      "Var(v=5.0000, grad=3.0000)\n",
      "Var(v=15.0000, grad=1.0000)\n",
      "5.000000413701855\n"
     ]
    }
   ],
   "source": [
    "# test function - try to change into other functions as well\n",
    "def test_function(a):\n",
    "  a = Var(a)\n",
    "  b = Var(5.0)\n",
    "  f = a * b\n",
    "  f.backward()\n",
    "  return a,b,f\n",
    "\n",
    "for v in test_function(3.0):\n",
    "  print(v)\n",
    "\n",
    "# Insert your finite difference code here\n",
    "def finite_difference(da=1e-10):\n",
    "    \n",
    "    \"\"\"\n",
    "    This function compute the finite difference between\n",
    "    \n",
    "    Input:\n",
    "    da:          The finite difference                           (float)\n",
    "    \n",
    "    Output:\n",
    "    finite_difference: numerical approximation to the derivative (float) \n",
    "    \"\"\"\n",
    "    a=3.0\n",
    "    _,_,fa_da = test_function(a+da)          # <- Insert correct expression we are interested in 3rd value of the test_function\n",
    "    _,_,fa = test_function(a)               # <- Insert correct expression\n",
    "\n",
    "    finite_difference = (fa_da.v - fa.v) / da  #finite_difference = (fa_da.grad - fa.grad) / da\n",
    "    \n",
    "    return finite_difference\n",
    "\n",
    "print(finite_difference())"
   ]
  },
  {
   "cell_type": "markdown",
   "metadata": {
    "id": "6pZar5RKaUkg"
   },
   "source": [
    "# Create an artificial dataset to play with\n",
    "\n",
    "We create a non-linear 1d regression task. The generator supports various noise levels and it creates train, validation and test sets. You can modify it yourself if you want more or less challenging tasks."
   ]
  },
  {
   "cell_type": "code",
   "execution_count": 260,
   "metadata": {
    "id": "Y6yfMAQ8aduj"
   },
   "outputs": [],
   "source": [
    "import numpy as np\n",
    "import matplotlib.pyplot as plt\n",
    "\n",
    "np.random.seed(42)"
   ]
  },
  {
   "cell_type": "code",
   "execution_count": 261,
   "metadata": {
    "id": "4YabfD43ajNh"
   },
   "outputs": [],
   "source": [
    "def data_generator(noise=0.1, n_samples=300, D1=True):\n",
    "    # Create covariates and response variable\n",
    "    if D1:\n",
    "        #create numeric sequence\n",
    "        X = np.linspace(-3, 3, num=n_samples).reshape(-1,1) # 1-D\n",
    "        np.random.shuffle(X)\n",
    "        y = np.random.normal((0.5*np.sin(X[:,0]*3) + X[:,0]), noise) # 1-D with trend\n",
    "    else:\n",
    "        X = np.random.multivariate_normal(np.zeros(3), noise*np.eye(3), size = n_samples) # 3-D\n",
    "        np.random.shuffle(X)    \n",
    "        y = np.sin(X[:,0]) - 5*(X[:,1]**2) + 0.5*X[:,2] # 3-D\n",
    "\n",
    "    # Stack them together vertically to split data set\n",
    "    data_set = np.vstack((X.T,y)).T\n",
    "    \n",
    "    train, validation, test = np.split(data_set, [int(0.35*n_samples), int(0.7*n_samples)], axis=0)\n",
    "    \n",
    "    # Standardization of the data, remember we do the standardization with the training set mean and standard deviation\n",
    "    train_mu = np.mean(train, axis=0)\n",
    "    train_sigma = np.std(train, axis=0)\n",
    "    \n",
    "    train = (train-train_mu)/train_sigma\n",
    "    validation = (validation-train_mu)/train_sigma\n",
    "    test = (test-train_mu)/train_sigma\n",
    "    \n",
    "    x_train, x_validation, x_test = train[:,:-1], validation[:,:-1], test[:,:-1]\n",
    "    y_train, y_validation, y_test = train[:,-1], validation[:,-1], test[:,-1]\n",
    "\n",
    "    return x_train, y_train,  x_validation, y_validation, x_test, y_test"
   ]
  },
  {
   "cell_type": "code",
   "execution_count": 262,
   "metadata": {
    "id": "u1oDngHLapIz"
   },
   "outputs": [],
   "source": [
    "D1 = True\n",
    "x_train, y_train,  x_validation, y_validation, x_test, y_test = data_generator(noise=0.5, D1=D1)"
   ]
  },
  {
   "cell_type": "code",
   "execution_count": 263,
   "metadata": {
    "colab": {
     "base_uri": "https://localhost:8080/",
     "height": 265
    },
    "id": "Ysfa3FsBavlm",
    "outputId": "26d5d03c-6c26-47ce-cbab-676c99c30b73"
   },
   "outputs": [
    {
     "data": {
      "image/png": "[encoded data removed]",
      "text/plain": [
       "<Figure size 432x288 with 1 Axes>"
      ]
     },
     "metadata": {
      "needs_background": "light"
     },
     "output_type": "display_data"
    }
   ],
   "source": [
    "if D1:\n",
    "    plt.scatter(x_train[:,0], y_train);\n",
    "    plt.scatter(x_validation[:,0], y_validation);\n",
    "    plt.scatter(x_test[:,0], y_test);\n",
    "else:\n",
    "    plt.scatter(x_train[:,1], y_train);\n",
    "    plt.scatter(x_validation[:,1], y_validation);\n",
    "    plt.scatter(x_test[:,1], y_test);\n",
    "plt.show()"
   ]
  },
  {
   "cell_type": "code",
   "execution_count": 264,
   "metadata": {
    "id": "zac2HHNlgbpm"
   },
   "outputs": [],
   "source": [
    "# convert from nparray to Var\n",
    "def nparray_to_Var(x):\n",
    "  if x.ndim==1:\n",
    "    y = [[Var(float(x[i]))] for i in range(x.shape[0])] # always work with list of list\n",
    "  else:\n",
    "    y = [[Var(float(x[i,j])) for j in range(x.shape[1])] for i in range(x.shape[0])]\n",
    "  return y\n",
    "   \n",
    "x_train = nparray_to_Var(x_train)\n",
    "y_train = nparray_to_Var(y_train)\n",
    "x_validation = nparray_to_Var(x_validation)\n",
    "y_validation = nparray_to_Var(y_validation)\n",
    "x_test = nparray_to_Var(x_test)\n",
    "y_test = nparray_to_Var(y_test)\n"
   ]
  },
  {
   "cell_type": "code",
   "execution_count": 265,
   "metadata": {},
   "outputs": [
    {
     "data": {
      "text/plain": [
       "[[Var(v=0.7213, grad=0.0000)],\n",
       " [Var(v=1.4497, grad=0.0000)],\n",
       " [Var(v=0.1316, grad=0.0000)],\n",
       " [Var(v=-1.5219, grad=0.0000)],\n",
       " [Var(v=1.0682, grad=0.0000)],\n",
       " [Var(v=0.9872, grad=0.0000)],\n",
       " [Var(v=0.6403, grad=0.0000)],\n",
       " [Var(v=-0.3656, grad=0.0000)],\n",
       " [Var(v=-1.5681, grad=0.0000)],\n",
       " [Var(v=0.3975, grad=0.0000)],\n",
       " [Var(v=1.1144, grad=0.0000)],\n",
       " [Var(v=-0.9669, grad=0.0000)],\n",
       " [Var(v=0.8947, grad=0.0000)],\n",
       " [Var(v=-1.1056, grad=0.0000)],\n",
       " [Var(v=0.4785, grad=0.0000)],\n",
       " [Var(v=0.9294, grad=0.0000)],\n",
       " [Var(v=1.7157, grad=0.0000)],\n",
       " [Var(v=0.8138, grad=0.0000)],\n",
       " [Var(v=0.0853, grad=0.0000)],\n",
       " [Var(v=0.2819, grad=0.0000)],\n",
       " [Var(v=-0.7240, grad=0.0000)],\n",
       " [Var(v=-0.3193, grad=0.0000)],\n",
       " [Var(v=1.2532, grad=0.0000)],\n",
       " [Var(v=1.2647, grad=0.0000)],\n",
       " [Var(v=-0.4234, grad=0.0000)],\n",
       " [Var(v=-1.1403, grad=0.0000)],\n",
       " [Var(v=1.6232, grad=0.0000)],\n",
       " [Var(v=1.7851, grad=0.0000)],\n",
       " [Var(v=0.1894, grad=0.0000)],\n",
       " [Var(v=1.1260, grad=0.0000)],\n",
       " [Var(v=-1.4294, grad=0.0000)],\n",
       " [Var(v=0.2703, grad=0.0000)],\n",
       " [Var(v=-1.2444, grad=0.0000)],\n",
       " [Var(v=-1.3484, grad=0.0000)],\n",
       " [Var(v=0.8600, grad=0.0000)],\n",
       " [Var(v=-0.2500, grad=0.0000)],\n",
       " [Var(v=-1.5450, grad=0.0000)],\n",
       " [Var(v=-0.5853, grad=0.0000)],\n",
       " [Var(v=-1.0940, grad=0.0000)],\n",
       " [Var(v=-0.7819, grad=0.0000)],\n",
       " [Var(v=-0.5506, grad=0.0000)],\n",
       " [Var(v=-0.7472, grad=0.0000)],\n",
       " [Var(v=1.6810, grad=0.0000)],\n",
       " [Var(v=-0.9322, grad=0.0000)],\n",
       " [Var(v=-0.7356, grad=0.0000)],\n",
       " [Var(v=-0.8975, grad=0.0000)],\n",
       " [Var(v=1.0797, grad=0.0000)],\n",
       " [Var(v=1.0219, grad=0.0000)],\n",
       " [Var(v=-0.3425, grad=0.0000)],\n",
       " [Var(v=1.0450, grad=0.0000)],\n",
       " [Var(v=0.4553, grad=0.0000)],\n",
       " [Var(v=0.0391, grad=0.0000)],\n",
       " [Var(v=1.1375, grad=0.0000)],\n",
       " [Var(v=-0.7587, grad=0.0000)],\n",
       " [Var(v=1.8082, grad=0.0000)],\n",
       " [Var(v=1.5885, grad=0.0000)],\n",
       " [Var(v=-0.5044, grad=0.0000)],\n",
       " [Var(v=-0.5622, grad=0.0000)],\n",
       " [Var(v=0.5941, grad=0.0000)],\n",
       " [Var(v=-1.3369, grad=0.0000)],\n",
       " [Var(v=1.0566, grad=0.0000)],\n",
       " [Var(v=-0.9437, grad=0.0000)],\n",
       " [Var(v=-1.5566, grad=0.0000)],\n",
       " [Var(v=0.5132, grad=0.0000)],\n",
       " [Var(v=0.3744, grad=0.0000)],\n",
       " [Var(v=-1.2790, grad=0.0000)],\n",
       " [Var(v=-1.3715, grad=0.0000)],\n",
       " [Var(v=1.3341, grad=0.0000)],\n",
       " [Var(v=-0.9784, grad=0.0000)],\n",
       " [Var(v=0.5247, grad=0.0000)],\n",
       " [Var(v=-0.3772, grad=0.0000)],\n",
       " [Var(v=-0.1690, grad=0.0000)],\n",
       " [Var(v=1.0335, grad=0.0000)],\n",
       " [Var(v=0.6057, grad=0.0000)],\n",
       " [Var(v=-0.1343, grad=0.0000)],\n",
       " [Var(v=1.6347, grad=0.0000)],\n",
       " [Var(v=-0.6778, grad=0.0000)],\n",
       " [Var(v=-0.6547, grad=0.0000)],\n",
       " [Var(v=-0.8628, grad=0.0000)],\n",
       " [Var(v=1.7041, grad=0.0000)],\n",
       " [Var(v=0.2588, grad=0.0000)],\n",
       " [Var(v=0.1547, grad=0.0000)],\n",
       " [Var(v=-1.4062, grad=0.0000)],\n",
       " [Var(v=-0.1922, grad=0.0000)],\n",
       " [Var(v=-0.7125, grad=0.0000)],\n",
       " [Var(v=-0.3078, grad=0.0000)],\n",
       " [Var(v=-0.2615, grad=0.0000)],\n",
       " [Var(v=-0.7934, grad=0.0000)],\n",
       " [Var(v=-1.4525, grad=0.0000)],\n",
       " [Var(v=-1.5103, grad=0.0000)],\n",
       " [Var(v=0.6172, grad=0.0000)],\n",
       " [Var(v=-0.4581, grad=0.0000)],\n",
       " [Var(v=-0.8397, grad=0.0000)],\n",
       " [Var(v=0.9641, grad=0.0000)],\n",
       " [Var(v=-1.1981, grad=0.0000)],\n",
       " [Var(v=-1.4409, grad=0.0000)],\n",
       " [Var(v=0.4438, grad=0.0000)],\n",
       " [Var(v=0.0738, grad=0.0000)],\n",
       " [Var(v=1.5422, grad=0.0000)],\n",
       " [Var(v=-0.8512, grad=0.0000)],\n",
       " [Var(v=1.0104, grad=0.0000)],\n",
       " [Var(v=-0.8281, grad=0.0000)],\n",
       " [Var(v=-1.2675, grad=0.0000)],\n",
       " [Var(v=0.4900, grad=0.0000)],\n",
       " [Var(v=1.4382, grad=0.0000)]]"
      ]
     },
     "execution_count": 265,
     "metadata": {},
     "output_type": "execute_result"
    }
   ],
   "source": [
    "x_train"
   ]
  },
  {
   "cell_type": "markdown",
   "metadata": {
    "id": "VbjrqcpVFtGe"
   },
   "source": [
    "# Defining and initializing the network\n",
    "\n",
    "The steps to create a feed forward neural network are the following:\n",
    "\n",
    "1. **Number of hidden layer and hidden units**. We have to define the number of hidden units in each layer. The number of features in X and the output dimensionality (the size of Y) are given but the numbers in between are set by the researcher. Remember that for each unit in each layer beside in the input has a bias term.\n",
    "2. **Activation functions** for each hidden layer. Each hidden layer in your list must have an activation function (it can also be the linear activation which is equivalent to identity function). The power of neural networks comes from non-linear activation functions that learn representations (features) from the data allowing us to learn from it. \n",
    "3. **Parameter initialization**. We will initialize the weights to have random values. This is done in practice by drawing pseudo random numbers from a Gaussian or uniform distribution. It turns out that for deeper models we have to be careful about how we scale the random numbers. This will be the topic of the exercise below. For now we will just use unit variance Gaussians.  \n",
    "\n",
    "In order to make life easier for ourselves we define a DenseLayer class that takes care of initialization and the forward pass. We can also extend it later with print and advanced initialization capabilities. For the latter we have introduced a Initializer class.\n",
    "\n",
    "Note that we use Sequence in the code below. A Sequence is an ordered list. This means the order we insert and access items are the same."
   ]
  },
  {
   "cell_type": "code",
   "execution_count": 266,
   "metadata": {
    "id": "ij_ieRsAt7Xt"
   },
   "outputs": [],
   "source": [
    "class Initializer:\n",
    "\n",
    "  def init_weights(self, n_in, n_out):\n",
    "    raise NotImplementedError\n",
    "\n",
    "  def init_bias(self, n_out):\n",
    "    raise NotImplementedError"
   ]
  },
  {
   "cell_type": "code",
   "execution_count": 267,
   "metadata": {
    "id": "eb18N5phuIha"
   },
   "outputs": [],
   "source": [
    "import random\n",
    "\n",
    "class NormalInitializer(Initializer):\n",
    "\n",
    "  def __init__(self, mean=0, std=0.1):\n",
    "    self.mean = mean\n",
    "    self.std = std\n",
    "\n",
    "  def init_weights(self, n_in, n_out):\n",
    "    return [[Var(random.gauss(self.mean, self.std)) for _ in range(n_out)] for _ in range(n_in)]\n",
    "\n",
    "  def init_bias(self, n_out):\n",
    "    return [Var(0.0) for _ in range(n_out)]\n",
    "\n",
    "class ConstantInitializer(Initializer):\n",
    "\n",
    "  def __init__(self, weight=1.0, bias=0.0):\n",
    "    self.weight = weight\n",
    "    self.bias = bias\n",
    "\n",
    "  def init_weights(self, n_in, n_out):\n",
    "    return [[Var(self.weight) for _ in range(n_out)] for _ in range(n_in)]\n",
    "\n",
    "  def init_bias(self, n_out):\n",
    "    return [Var(self.bias) for _ in range(n_out)]"
   ]
  },
  {
   "cell_type": "code",
   "execution_count": 268,
   "metadata": {
    "id": "jOLYGnZKuM6W"
   },
   "outputs": [],
   "source": [
    "from typing import Sequence\n",
    "\n",
    "class DenseLayer:\n",
    "    def __init__(self, n_in: int, n_out: int, act_fn, initializer = NormalInitializer()):\n",
    "        self.weights = initializer.init_weights(n_in, n_out)\n",
    "        self.bias = initializer.init_bias(n_out)\n",
    "        self.act_fn = act_fn\n",
    "    \n",
    "    def __repr__(self):    \n",
    "        return 'Weights: ' + repr(self.weights) + ' Biases: ' + repr(self.bias)\n",
    "      \n",
    "    def parameters(self) -> Sequence[Var]: \n",
    "      params = []\n",
    "      for r in self.weights:\n",
    "        params += r\n",
    "        \n",
    "      return params + self.bias\n",
    "\n",
    "    def forward(self, inputs: Sequence[Var]) -> Sequence[Var]:\n",
    "        assert len(self.weights) == len(inputs), \"weights and inputs must match in first dimension\"\n",
    "        weights = self.weights\n",
    "        out = []\n",
    "        for j in range(len(weights[0])):\n",
    "            node = self.bias[j]   # <- Insert code\n",
    "            for i in range(len(inputs)):\n",
    "                node += inputs[i] * weights[i][j]  # <- Insert code\n",
    "            node = self.act_fn(node)\n",
    "            out.append(node)\n",
    "\n",
    "        return out  \n",
    "\n",
    "    \n",
    "    def __len__(self):\n",
    "        return self.item_count\n",
    "    \n",
    "    def show_param(self):\n",
    "        for w in self.weights:\n",
    "                return('Weights of this layer: ', w ,'\\n Bias of this layer: ', self.bias)\n",
    "        "
   ]
  },
  {
   "cell_type": "markdown",
   "metadata": {
    "id": "p_8n_SKnIW2F"
   },
   "source": [
    "## Exercise f) Complete the forward pass\n",
    "\n",
    "In the code below we initialize a 1-5-1 network and pass the training set through it. The forward method in DenseLayer is not complete. It  just outputs zeros right now. The method forward should perform an [affine transformation](https://en.wikipedia.org/wiki/Affine_transformation) on the input followed by an application of the activation function."
   ]
  },
  {
   "cell_type": "code",
   "execution_count": 269,
   "metadata": {
    "colab": {
     "base_uri": "https://localhost:8080/"
    },
    "id": "xDEjtePxE7Mv",
    "outputId": "271bcd73-43d6-4255-8ea0-6447b2a0ad8c"
   },
   "outputs": [
    {
     "data": {
      "text/plain": [
       "[[Var(v=0.0073, grad=0.0000)],\n",
       " [Var(v=0.0146, grad=0.0000)],\n",
       " [Var(v=0.0013, grad=0.0000)],\n",
       " [Var(v=0.0018, grad=0.0000)],\n",
       " [Var(v=0.0108, grad=0.0000)],\n",
       " [Var(v=0.0099, grad=0.0000)],\n",
       " [Var(v=0.0064, grad=0.0000)],\n",
       " [Var(v=0.0004, grad=0.0000)],\n",
       " [Var(v=0.0019, grad=0.0000)],\n",
       " [Var(v=0.0040, grad=0.0000)],\n",
       " [Var(v=0.0112, grad=0.0000)],\n",
       " [Var(v=0.0012, grad=0.0000)],\n",
       " [Var(v=0.0090, grad=0.0000)],\n",
       " [Var(v=0.0013, grad=0.0000)],\n",
       " [Var(v=0.0048, grad=0.0000)],\n",
       " [Var(v=0.0094, grad=0.0000)],\n",
       " [Var(v=0.0173, grad=0.0000)],\n",
       " [Var(v=0.0082, grad=0.0000)],\n",
       " [Var(v=0.0009, grad=0.0000)],\n",
       " [Var(v=0.0028, grad=0.0000)],\n",
       " [Var(v=0.0009, grad=0.0000)],\n",
       " [Var(v=0.0004, grad=0.0000)],\n",
       " [Var(v=0.0126, grad=0.0000)],\n",
       " [Var(v=0.0127, grad=0.0000)],\n",
       " [Var(v=0.0005, grad=0.0000)],\n",
       " [Var(v=0.0014, grad=0.0000)],\n",
       " [Var(v=0.0163, grad=0.0000)],\n",
       " [Var(v=0.0180, grad=0.0000)],\n",
       " [Var(v=0.0019, grad=0.0000)],\n",
       " [Var(v=0.0113, grad=0.0000)],\n",
       " [Var(v=0.0017, grad=0.0000)],\n",
       " [Var(v=0.0027, grad=0.0000)],\n",
       " [Var(v=0.0015, grad=0.0000)],\n",
       " [Var(v=0.0016, grad=0.0000)],\n",
       " [Var(v=0.0087, grad=0.0000)],\n",
       " [Var(v=0.0003, grad=0.0000)],\n",
       " [Var(v=0.0018, grad=0.0000)],\n",
       " [Var(v=0.0007, grad=0.0000)],\n",
       " [Var(v=0.0013, grad=0.0000)],\n",
       " [Var(v=0.0009, grad=0.0000)],\n",
       " [Var(v=0.0007, grad=0.0000)],\n",
       " [Var(v=0.0009, grad=0.0000)],\n",
       " [Var(v=0.0169, grad=0.0000)],\n",
       " [Var(v=0.0011, grad=0.0000)],\n",
       " [Var(v=0.0009, grad=0.0000)],\n",
       " [Var(v=0.0011, grad=0.0000)],\n",
       " [Var(v=0.0109, grad=0.0000)],\n",
       " [Var(v=0.0103, grad=0.0000)],\n",
       " [Var(v=0.0004, grad=0.0000)],\n",
       " [Var(v=0.0105, grad=0.0000)],\n",
       " [Var(v=0.0046, grad=0.0000)],\n",
       " [Var(v=0.0004, grad=0.0000)],\n",
       " [Var(v=0.0115, grad=0.0000)],\n",
       " [Var(v=0.0009, grad=0.0000)],\n",
       " [Var(v=0.0182, grad=0.0000)],\n",
       " [Var(v=0.0160, grad=0.0000)],\n",
       " [Var(v=0.0006, grad=0.0000)],\n",
       " [Var(v=0.0007, grad=0.0000)],\n",
       " [Var(v=0.0060, grad=0.0000)],\n",
       " [Var(v=0.0016, grad=0.0000)],\n",
       " [Var(v=0.0106, grad=0.0000)],\n",
       " [Var(v=0.0011, grad=0.0000)],\n",
       " [Var(v=0.0019, grad=0.0000)],\n",
       " [Var(v=0.0052, grad=0.0000)],\n",
       " [Var(v=0.0038, grad=0.0000)],\n",
       " [Var(v=0.0015, grad=0.0000)],\n",
       " [Var(v=0.0016, grad=0.0000)],\n",
       " [Var(v=0.0134, grad=0.0000)],\n",
       " [Var(v=0.0012, grad=0.0000)],\n",
       " [Var(v=0.0053, grad=0.0000)],\n",
       " [Var(v=0.0004, grad=0.0000)],\n",
       " [Var(v=0.0002, grad=0.0000)],\n",
       " [Var(v=0.0104, grad=0.0000)],\n",
       " [Var(v=0.0061, grad=0.0000)],\n",
       " [Var(v=0.0002, grad=0.0000)],\n",
       " [Var(v=0.0165, grad=0.0000)],\n",
       " [Var(v=0.0008, grad=0.0000)],\n",
       " [Var(v=0.0008, grad=0.0000)],\n",
       " [Var(v=0.0010, grad=0.0000)],\n",
       " [Var(v=0.0172, grad=0.0000)],\n",
       " [Var(v=0.0026, grad=0.0000)],\n",
       " [Var(v=0.0016, grad=0.0000)],\n",
       " [Var(v=0.0017, grad=0.0000)],\n",
       " [Var(v=0.0002, grad=0.0000)],\n",
       " [Var(v=0.0008, grad=0.0000)],\n",
       " [Var(v=0.0004, grad=0.0000)],\n",
       " [Var(v=0.0003, grad=0.0000)],\n",
       " [Var(v=0.0009, grad=0.0000)],\n",
       " [Var(v=0.0017, grad=0.0000)],\n",
       " [Var(v=0.0018, grad=0.0000)],\n",
       " [Var(v=0.0062, grad=0.0000)],\n",
       " [Var(v=0.0005, grad=0.0000)],\n",
       " [Var(v=0.0010, grad=0.0000)],\n",
       " [Var(v=0.0097, grad=0.0000)],\n",
       " [Var(v=0.0014, grad=0.0000)],\n",
       " [Var(v=0.0017, grad=0.0000)],\n",
       " [Var(v=0.0045, grad=0.0000)],\n",
       " [Var(v=0.0007, grad=0.0000)],\n",
       " [Var(v=0.0155, grad=0.0000)],\n",
       " [Var(v=0.0010, grad=0.0000)],\n",
       " [Var(v=0.0102, grad=0.0000)],\n",
       " [Var(v=0.0010, grad=0.0000)],\n",
       " [Var(v=0.0015, grad=0.0000)],\n",
       " [Var(v=0.0049, grad=0.0000)],\n",
       " [Var(v=0.0145, grad=0.0000)]]"
      ]
     },
     "execution_count": 269,
     "metadata": {},
     "output_type": "execute_result"
    }
   ],
   "source": [
    "#object is created\n",
    "NN = [\n",
    "    DenseLayer(1, 5, lambda x: x.relu()),\n",
    "    DenseLayer(5, 1, lambda x: x.identity())\n",
    "]\n",
    "\n",
    "def forward(input, network):\n",
    "\n",
    "  def forward_single(x, network):\n",
    "    i=0\n",
    "    for layer in network:\n",
    "        x = layer.forward(x)\n",
    "    return x\n",
    "\n",
    "  output = [ forward_single(input[n], network) for n in range(len(input))]\n",
    "  return output\n",
    "    \n",
    "\n",
    "\n",
    "forward(x_train, NN)\n"
   ]
  },
  {
   "cell_type": "markdown",
   "metadata": {
    "id": "oLrGJytZFtGm"
   },
   "source": [
    "## Exercise g) Print all network parameters\n",
    "\n",
    "Make a function that prints all the parameters of the network (weights and biases) with information about in which layer the appear. In the object oriented spirit you should introduce a method in the DenseLayer class to print the parameters of a layer. Hint: You can take inspiration from the corresponding method in Var. "
   ]
  },
  {
   "cell_type": "code",
   "execution_count": 1,
   "metadata": {
    "id": "iac-VwYGFtGm"
   },
   "outputs": [
    {
     "ename": "NameError",
     "evalue": "name 'NN' is not defined",
     "output_type": "error",
     "traceback": [
      "\u001b[0;31m---------------------------------------------------------------------------\u001b[0m",
      "\u001b[0;31mNameError\u001b[0m                                 Traceback (most recent call last)",
      "\u001b[0;32m<ipython-input-1-d3676d2058d4>\u001b[0m in \u001b[0;36m<module>\u001b[0;34m\u001b[0m\n\u001b[1;32m      5\u001b[0m         \u001b[0mprint\u001b[0m\u001b[0;34m(\u001b[0m\u001b[0mnetwork\u001b[0m\u001b[0;34m[\u001b[0m\u001b[0mi\u001b[0m\u001b[0;34m]\u001b[0m\u001b[0;34m.\u001b[0m\u001b[0mshow_param\u001b[0m\u001b[0;34m(\u001b[0m\u001b[0;34m)\u001b[0m\u001b[0;34m)\u001b[0m\u001b[0;34m\u001b[0m\u001b[0;34m\u001b[0m\u001b[0m\n\u001b[1;32m      6\u001b[0m \u001b[0;34m\u001b[0m\u001b[0m\n\u001b[0;32m----> 7\u001b[0;31m \u001b[0mshow_param\u001b[0m\u001b[0;34m(\u001b[0m\u001b[0mNN\u001b[0m\u001b[0;34m)\u001b[0m\u001b[0;34m\u001b[0m\u001b[0;34m\u001b[0m\u001b[0m\n\u001b[0m",
      "\u001b[0;31mNameError\u001b[0m: name 'NN' is not defined"
     ]
    }
   ],
   "source": [
    "# Insert code here and in the DenseLayer class\n",
    "def show_param(network):\n",
    "    for i in range(len(network)):\n",
    "        print('Layer : ' ,i)\n",
    "        print(network[i].show_param())\n",
    "\n",
    "show_param(NN)"
   ]
  },
  {
   "cell_type": "markdown",
   "metadata": {
    "id": "-u4xk_ORFtGz"
   },
   "source": [
    "# Activation functions\n",
    "\n",
    "To have a full definition of the neural network, we must define an activation function for every layer. Several activation functions have been proposed and have different characteristics. In the Var class we have already defined the rectified linear init (relu). \n",
    " "
   ]
  },
  {
   "cell_type": "markdown",
   "metadata": {
    "id": "jpIZPBpNI0pO"
   },
   "source": [
    "## Exercise h) Add more activation functions\n",
    "\n",
    "Implement the following activation functions in the Var class:\n",
    "\n",
    "* Identity: $$\\mathrm{identity}(x) = x$$\n",
    "* Hyperbolic tangent: $$\\tanh(x)$$\n",
    "* Sigmoid (or logistic function): $$\\mathrm{sigmoid}(x) = \\frac{1}{1.0 + \\exp(-x ) }$$  Hint: $\\mathrm{sigmoid}'(x)= \\mathrm{sigmoid}(x)(1-\\mathrm{sigmoid}(x))$.  \n",
    "\n",
    "Hint: You can seek inspiration in the relu method in the Var class."
   ]
  },
  {
   "cell_type": "markdown",
   "metadata": {
    "id": "_79HOAXrFtHK"
   },
   "source": [
    "## Visualization\n",
    "\n",
    "Now that we have defined our activation functions we can visualize them to see what they look like:"
   ]
  },
  {
   "cell_type": "code",
   "execution_count": 271,
   "metadata": {
    "colab": {
     "base_uri": "https://localhost:8080/",
     "height": 284
    },
    "id": "1FcylHqLTl-Z",
    "outputId": "c23c865b-3894-434c-f38a-f3cff5f772e5"
   },
   "outputs": [
    {
     "data": {
      "text/plain": [
       "[<matplotlib.lines.Line2D at 0x7fd8d5ada1c0>]"
      ]
     },
     "execution_count": 271,
     "metadata": {},
     "output_type": "execute_result"
    },
    {
     "data": {
      "image/png": "[encoded data removed]",
      "text/plain": [
       "<Figure size 432x288 with 1 Axes>"
      ]
     },
     "metadata": {
      "needs_background": "light"
     },
     "output_type": "display_data"
    }
   ],
   "source": [
    "x = np.linspace(-6, 6, 100)\n",
    "\n",
    "# convert from Var to ndarray  \n",
    "def Var_to_nparray(x):\n",
    "  y = np.zeros((len(x),len(x[0])))\n",
    "  for i in range(len(x)):\n",
    "    for j in range(len(x[0])):\n",
    "      y[i,j] = x[i][j].v\n",
    "  return y\n",
    "\n",
    "# define 1-1 network with weight = 1 and relu activation \n",
    "NN = [ DenseLayer(1, 1, lambda x: x.relu(), initializer = ConstantInitializer(1.0)) ] \n",
    "y = Var_to_nparray(forward(nparray_to_Var(x), NN))\n",
    "\n",
    "#y = Var_to_nparray(relu(nparray_to_Var(x)))\n",
    "plt.plot(x,y)"
   ]
  },
  {
   "cell_type": "code",
   "execution_count": 272,
   "metadata": {
    "colab": {
     "base_uri": "https://localhost:8080/",
     "height": 341
    },
    "id": "oOL2UolJFtHL",
    "outputId": "9d51d191-ca43-44a6-d5f6-d41a2bd0a80b"
   },
   "outputs": [
    {
     "data": {
      "image/png": "[encoded data removed]",
      "text/plain": [
       "<Figure size 360x360 with 1 Axes>"
      ]
     },
     "metadata": {
      "needs_background": "light"
     },
     "output_type": "display_data"
    }
   ],
   "source": [
    "# Testing all activation layers\n",
    "x = np.linspace(-6, 6, 100)\n",
    "units = {\n",
    "    \"identity\": lambda x: x.identity(),\n",
    "    \"sigmoid\": lambda x: x.sigmoid(),\n",
    "    \"relu\": lambda x: x.relu(),\n",
    "    \"tanh\": lambda x: x.tanh() \n",
    "}\n",
    "\n",
    "plt.figure(figsize=(5, 5))\n",
    "[plt.plot(x, Var_to_nparray(forward(nparray_to_Var(x), [DenseLayer(1, 1, unit, initializer = ConstantInitializer(1.0))]) ), label=unit_name, lw=2) for unit_name, unit in units.items()] # unit(nparray_to_Var(x))), label=unit_name, lw=2) for unit_name, unit in units.items()]\n",
    "plt.legend(loc=2, fontsize=16)\n",
    "plt.title('Our activation functions', fontsize=20)\n",
    "plt.ylim([-2, 5])\n",
    "plt.xlim([-6, 6])\n",
    "plt.show()"
   ]
  },
  {
   "cell_type": "markdown",
   "metadata": {
    "id": "b-jdEl-7FtGs"
   },
   "source": [
    "# Advanced initialization schemes\n",
    "\n",
    "If we are not careful with initialization, the signals we propagate forward ($a^{(l)}$, $l=1,\\ldots,L$) and backward ($\\delta^l$, $l=L,L-1,\\ldots,1$) can blow up or shrink to zero. A statistical analysis of the variance of the signals for different activation functions can be found in these two papers: [Glorot initialization](http://proceedings.mlr.press/v9/glorot10a/glorot10a.pdf) and [He initialization](https://arxiv.org/pdf/1502.01852v1.pdf). \n",
    "\n",
    "The result of the analyses are proposals for how to make the initialization such that the variance of the signals (forward and backward) are kept approxmimatly constant when propagating from layer to layer. The exact expressions depend upon the non-linear activation function used. In Glorot initialization, the aim is to keep both the forward and backward variances constant whereas He only aims at keeping the variance in the forward pass constant.\n",
    "\n",
    "We define $n_{in}$ and $n_{out}$ as the number of input units and output units of a particular layer. \n",
    "\n",
    "The Glorot initialization has the form: \n",
    "\n",
    "$$w_{ij} \\sim N \\bigg( 0, \\, \\frac{2 \\alpha }{n_{in} + n_{out}} \\bigg) \\ . $$\n",
    "\n",
    "where $N(\\mu,\\sigma^2)$ is a Gaussian distribution with mean $\\mu$ and variance $\\sigma^2$ and $\\alpha$ is a parameter that depends upon the activation function used. For $\\tanh$, $\\alpha=1$ and for Rectified Linear Unit (ReLU) activations, $\\alpha=2$. (It is also possible to use a uniform distribution for initialization, see [this blog post](https://mmuratarat.github.io/2019-02-25/xavier-glorot-he-weight-init).) \n",
    "\n",
    "The He initialization is very similar\n",
    "\n",
    "$$w_{ij} \\sim N \\bigg( 0, \\, \\frac{\\alpha}{n_{in}} \\bigg) \\ . $$"
   ]
  },
  {
   "cell_type": "markdown",
   "metadata": {
    "id": "mqeyab9qFtGs"
   },
   "source": [
    "## Exercise i) Glorot and He initialization\n",
    " \n",
    "Using the Initializer class, implement functions that implement Glorot and He \n",
    "\n",
    "Explain briefly how you would test numerically that these initializations have the sought after property. Hint: See plots in Glorot paper.\n",
    "\n",
    "Comment: If you want to be more advanced then try to make a universal initializer taking both the activation function and type (Glorot or He) as argument."
   ]
  },
  {
   "cell_type": "code",
   "execution_count": 273,
   "metadata": {
    "id": "Qyk01CgaFtGt"
   },
   "outputs": [],
   "source": [
    "from math import sqrt\n",
    "## Glorot\n",
    "def DenseLayer_Glorot_tanh(n_in: int, n_out: int):\n",
    "  std = sqrt(2 /( n_in + n_out)) # <- replace with proper initialization\n",
    "  return DenseLayer(n_in, n_out, lambda x: x.tanh(), initializer = NormalInitializer(std))\n",
    "\n",
    "## He\n",
    "def DenseLayer_He_relu(n_in: int, n_out: int):\n",
    "  std = sqrt(2/n_in) # <- replace with proper initialization\n",
    "  return DenseLayer(n_in, n_out, lambda x: x.tanh(), initializer = NormalInitializer(std))"
   ]
  },
  {
   "cell_type": "markdown",
   "metadata": {
    "id": "-XyXBD37FtHk"
   },
   "source": [
    "## Exercise j) Forward pass unit test\n",
    "\n",
    "Write a bit of code to make a unit test that the forward pass works. This can be done by defining a simple network with for example all weights equal to one (using the ConstantInitializer method) and identity activation functions. \n",
    "\n",
    "Hints: Use the [assert](https://www.w3schools.com/python/ref_keyword_assert.asp), the nparray_to_Var and the Var_to_nparray commands. "
   ]
  },
  {
   "cell_type": "code",
   "execution_count": 280,
   "metadata": {},
   "outputs": [
    {
     "name": "stdout",
     "output_type": "stream",
     "text": [
      "Layer :  0\n",
      "('Weights of this layer: ', [Var(v=1.0475, grad=0.0000)], '\\n Bias of this layer: ', [Var(v=0.0000, grad=0.0000)])\n"
     ]
    },
    {
     "data": {
      "image/png": "[encoded data removed]",
      "text/plain": [
       "<Figure size 432x288 with 1 Axes>"
      ]
     },
     "metadata": {
      "needs_background": "light"
     },
     "output_type": "display_data"
    }
   ],
   "source": [
    "SimpleNetwork2 = [ DenseLayer_Glorot_tanh(1,1) ]\n",
    "y2=Var_to_nparray(forward(nparray_to_Var(x), SimpleNetwork2))\n",
    "plt.plot(x, y2)\n",
    "show_param(SimpleNetwork2)"
   ]
  },
  {
   "cell_type": "markdown",
   "metadata": {
    "id": "faCxhfFnFtHp"
   },
   "source": [
    "# Loss functions\n",
    "\n",
    "We are only missing a loss function to we need to define a loss function and its derivative with respect to the output of the neural network $y$"
   ]
  },
  {
   "cell_type": "code",
   "execution_count": 281,
   "metadata": {
    "id": "I2eDYKvAFtHq"
   },
   "outputs": [],
   "source": [
    "def squared_loss(t, y):\n",
    "  \n",
    "  assert len(t)==len(y)\n",
    "  \n",
    "  def squared_loss_single(t, y):\n",
    "    Loss = Var(0.0)\n",
    "    for i in range(len(t)): # sum over outputs\n",
    "      Loss += (t[i]-y[i]) ** 2\n",
    "    return Loss\n",
    "\n",
    "  Loss = Var(0.0)\n",
    "  for n in range(len(t)): # sum over training data\n",
    "    Loss += squared_loss_single(t[n],y[n])\n",
    "  return Loss"
   ]
  },
  {
   "cell_type": "markdown",
   "metadata": {
    "id": "SrwSJ2UWFtHu"
   },
   "source": [
    "## Exercise j) Implement cross entropy loss\n",
    "\n",
    "Insert code below to implement cross-entropy loss for general dimensionality of $t$. Use a logits formulation:\n",
    "$$\n",
    "\\rm{Loss} = - \\sum_i t_i \\, log \\, p_i \n",
    "$$\n",
    "with $p$ given by the the softmax function in terms of the logits $h$:\n",
    "$$\n",
    "p_i = \\frac{\\exp(h_i)}{\\sum_{i'} \\exp(h_{i'} } .\n",
    "$$\n",
    "Inserting $p$ in the expression for the loss gives\n",
    "$$\n",
    "\\rm{Loss} = - \\sum_i t_i h_i + \\rm{LogSumExp}(h) \\ ,\n",
    "$$\n",
    "where \n",
    "$$\n",
    "\\rm{LogSumExp}(h) = \\log \\sum_i \\exp h_i \\ .\n",
    "$$\n",
    "This is true for $t$ being a one-hot vector. In practice you want to implement a [numerically stable](https://leimao.github.io/blog/LogSumExp/) version of LogSumExp. But we will not bother about that here.\n",
    "\n",
    "Help: You can add these methods in the Var class:\n",
    "\n",
    "    def exp(self):\n",
    "        return Var(exp(self.v), lambda: [(self, exp(self.v))])\n",
    "    \n",
    "    def log(self):\n",
    "        return Var(log(self.v), lambda: [(self, self.v ** -1)])"
   ]
  },
  {
   "cell_type": "code",
   "execution_count": 282,
   "metadata": {},
   "outputs": [],
   "source": [
    "def cross_entropy_loss(t, y):\n",
    "    #t =y_train, y=output\n",
    "    assert len(t)==len(y)\n",
    "  \n",
    "    # add check that sizes agree\n",
    "    Loss=Var(0.0)\n",
    "    SumExp=Var(0.0)\n",
    "  \n",
    "    def LogSumExp(h):\n",
    "        SumExp = Var(0.0)\n",
    "        for i in range(len(h)): # sum over outputs\n",
    "            SumExp += (h[i][0].exp())\n",
    "        return (SumExp.log())\n",
    "        \n",
    "    SumExp=LogSumExp(y)\n",
    "    \n",
    "    for i in range (len(y)):\n",
    "        Loss+=t[i][0] * y[i][0]\n",
    "    \n",
    "    Loss= SumExp - Loss\n",
    "    return Loss"
   ]
  },
  {
   "cell_type": "markdown",
   "metadata": {
    "id": "8fAF5ew4FtHy"
   },
   "source": [
    "# Backward pass\n",
    "\n",
    "Now the magic happens! We get the calculation of the gradients for free. Just do:"
   ]
  },
  {
   "cell_type": "code",
   "execution_count": 283,
   "metadata": {
    "id": "iHyfPPI9Qqwu"
   },
   "outputs": [],
   "source": [
    "NN = [\n",
    "    DenseLayer(1, 5, lambda x: x.relu()),\n",
    "    DenseLayer(5, 1, lambda x: x.identity())\n",
    "]\n",
    "\n",
    "output = forward(x_train, NN)\n",
    "\n",
    "Loss = squared_loss(y_train,output)"
   ]
  },
  {
   "cell_type": "markdown",
   "metadata": {
    "id": "49biIAYKQ1oG"
   },
   "source": [
    "and the gradients will be calculated:"
   ]
  },
  {
   "cell_type": "code",
   "execution_count": 284,
   "metadata": {
    "colab": {
     "base_uri": "https://localhost:8080/"
    },
    "id": "_rGt1bq_Q7uk",
    "outputId": "8d283577-9bd1-496b-f4a8-764a9507a4bf"
   },
   "outputs": [
    {
     "name": "stdout",
     "output_type": "stream",
     "text": [
      "Layer 0 \n",
      " Weights: [[Var(v=-0.1901, grad=0.0000), Var(v=0.0785, grad=0.0000), Var(v=-0.0244, grad=0.0000), Var(v=0.0105, grad=0.0000), Var(v=-0.1570, grad=0.0000)]] Biases: [Var(v=0.0000, grad=0.0000), Var(v=0.0000, grad=0.0000), Var(v=0.0000, grad=0.0000), Var(v=0.0000, grad=0.0000), Var(v=0.0000, grad=0.0000)]\n",
      "Layer 1 \n",
      " Weights: [[Var(v=-0.0614, grad=0.0000)], [Var(v=-0.1425, grad=0.0000)], [Var(v=0.0634, grad=0.0000)], [Var(v=-0.0210, grad=0.0000)], [Var(v=0.0532, grad=0.0000)]] Biases: [Var(v=0.0000, grad=0.0000)]\n"
     ]
    },
    {
     "data": {
      "text/plain": [
       "[None, None]"
      ]
     },
     "execution_count": 284,
     "metadata": {},
     "output_type": "execute_result"
    }
   ],
   "source": [
    "[print('Layer', i, '\\n', NN[i]) for i in range(len(NN))] "
   ]
  },
  {
   "cell_type": "markdown",
   "metadata": {
    "id": "D7d7qK0uFtH9"
   },
   "source": [
    "# Backward pass unit test\n",
    "\n",
    "Above we used finite differences to test that Nanograd is actually doing what it is supposed to do. We can in principle try the same for the neural network. But we will trust that the test above is enough."
   ]
  },
  {
   "cell_type": "markdown",
   "metadata": {
    "id": "WgBi8GOSFtIN"
   },
   "source": [
    "# Training and validation\n",
    "\n",
    "We are ready to train some neural networks!\n",
    "\n",
    "We initialize again:"
   ]
  },
  {
   "cell_type": "code",
   "execution_count": 285,
   "metadata": {
    "id": "01ePmzBzRtdh"
   },
   "outputs": [],
   "source": [
    "NN = [\n",
    "    DenseLayer(1, 5, lambda x: x.relu()),\n",
    "    DenseLayer(5, 1, lambda x: x.identity())\n",
    "]\n",
    "\n",
    "\n",
    "output = forward(x_train, NN)\n",
    "\n",
    "Loss = squared_loss(y_train,output)\n",
    "Loss.backward()"
   ]
  },
  {
   "cell_type": "markdown",
   "metadata": {
    "id": "10iRPiQ1ISHw"
   },
   "source": [
    "and make an update:\n",
    "\n",
    "We introduce a help function parameters to have a handle in all parameters in the network."
   ]
  },
  {
   "cell_type": "code",
   "execution_count": 286,
   "metadata": {
    "colab": {
     "base_uri": "https://localhost:8080/"
    },
    "id": "dhAI7eyeznia",
    "outputId": "8584bbad-00aa-4130-9961-44e9ae7fb4ed"
   },
   "outputs": [
    {
     "name": "stdout",
     "output_type": "stream",
     "text": [
      "Network before update:\n",
      "Layer 0 \n",
      " Weights: [[Var(v=-0.0076, grad=-4.5639), Var(v=-0.0508, grad=-8.2370), Var(v=0.0428, grad=-10.8412), Var(v=-0.0844, grad=11.7740), Var(v=0.0314, grad=2.7385)]] Biases: [Var(v=0.0000, grad=4.1479), Var(v=0.0000, grad=7.4863), Var(v=0.0000, grad=-9.3133), Var(v=0.0000, grad=-10.7009), Var(v=0.0000, grad=2.3526)]\n",
      "Layer 1 \n",
      " Weights: [[Var(v=0.0478, grad=0.7234)], [Var(v=0.0863, grad=4.8507)], [Var(v=0.1071, grad=-4.3303)], [Var(v=-0.1234, grad=8.0568)], [Var(v=-0.0271, grad=-3.1752)]] Biases: [Var(v=0.0000, grad=-0.1786)]\n",
      "\n",
      "Network after update:\n",
      "Layer 0 \n",
      " Weights: [[Var(v=0.0381, grad=-4.5639), Var(v=0.0315, grad=-8.2370), Var(v=0.1512, grad=-10.8412), Var(v=-0.2022, grad=11.7740), Var(v=0.0040, grad=2.7385)]] Biases: [Var(v=-0.0415, grad=4.1479), Var(v=-0.0749, grad=7.4863), Var(v=0.0931, grad=-9.3133), Var(v=0.1070, grad=-10.7009), Var(v=-0.0235, grad=2.3526)]\n",
      "Layer 1 \n",
      " Weights: [[Var(v=0.0406, grad=0.7234)], [Var(v=0.0378, grad=4.8507)], [Var(v=0.1504, grad=-4.3303)], [Var(v=-0.2039, grad=8.0568)], [Var(v=0.0047, grad=-3.1752)]] Biases: [Var(v=0.0018, grad=-0.1786)]\n",
      "\n",
      "Network after zeroing gradients:\n",
      "Layer 0 \n",
      " Weights: [[Var(v=0.0381, grad=0.0000), Var(v=0.0315, grad=0.0000), Var(v=0.1512, grad=0.0000), Var(v=-0.2022, grad=0.0000), Var(v=0.0040, grad=0.0000)]] Biases: [Var(v=-0.0415, grad=0.0000), Var(v=-0.0749, grad=0.0000), Var(v=0.0931, grad=0.0000), Var(v=0.1070, grad=0.0000), Var(v=-0.0235, grad=0.0000)]\n",
      "Layer 1 \n",
      " Weights: [[Var(v=0.0406, grad=0.0000)], [Var(v=0.0378, grad=0.0000)], [Var(v=0.1504, grad=0.0000)], [Var(v=-0.2039, grad=0.0000)], [Var(v=0.0047, grad=0.0000)]] Biases: [Var(v=0.0018, grad=0.0000)]\n"
     ]
    },
    {
     "data": {
      "text/plain": [
       "[None, None]"
      ]
     },
     "execution_count": 286,
     "metadata": {},
     "output_type": "execute_result"
    }
   ],
   "source": [
    "print('Network before update:')\n",
    "[print('Layer', i, '\\n', NN[i]) for i in range(len(NN))] \n",
    "\n",
    "def parameters(network):\n",
    "  params = []\n",
    "  for layer in range(len(network)):\n",
    "    params += network[layer].parameters()\n",
    "  return params\n",
    "\n",
    "def update_parameters(params, learning_rate=0.01):\n",
    "  for p in params:\n",
    "    p.v -= learning_rate*p.grad\n",
    "\n",
    "def zero_gradients(params):\n",
    "  for p in params:\n",
    "    p.grad = 0.0\n",
    "\n",
    "update_parameters(parameters(NN))\n",
    "\n",
    "print('\\nNetwork after update:')\n",
    "[print('Layer', i, '\\n', NN[i]) for i in range(len(NN))] \n",
    "\n",
    "zero_gradients(parameters(NN))\n",
    "\n",
    "print('\\nNetwork after zeroing gradients:')\n",
    "[print('Layer', i, '\\n', NN[i]) for i in range(len(NN))] "
   ]
  },
  {
   "cell_type": "code",
   "execution_count": 290,
   "metadata": {
    "id": "woWYpdw6FtIO"
   },
   "outputs": [
    {
     "data": {
      "text/plain": [
       "'\\nNN= [ DenseLayer_Glorot_tanh(1,1),\\n      DenseLayer_Glorot_tanh(1,1)\\n    \\n]'"
      ]
     },
     "execution_count": 290,
     "metadata": {},
     "output_type": "execute_result"
    }
   ],
   "source": [
    "# Initialize an arbitrary neural network\n",
    "NN = [\n",
    "    DenseLayer(1, 4, lambda x: x.tanh()),\n",
    "    DenseLayer(4, 1, lambda x: x.identity())\n",
    "]\n",
    "'''\n",
    "NN= [ DenseLayer_Glorot_tanh(1,1),\n",
    "      DenseLayer_Glorot_tanh(1,1)\n",
    "    \n",
    "]'''\n",
    "\n",
    "# Recommended hyper-parameters for 3-D: \n",
    "#NN = [\n",
    "#    DenseLayer(3, 16, lambda x: x.relu()),\n",
    "#    DenseLayer(16, 1, lambda x: x.identity())\n",
    "#]\n",
    "\n",
    "\n",
    "### Notice that, when we switch from tanh to relu activation, we decrease the learning rate. This is due the stability of the gradients \n",
    "## of the activation functions."
   ]
  },
  {
   "cell_type": "code",
   "execution_count": 291,
   "metadata": {
    "id": "mdqaqYBVFtIR"
   },
   "outputs": [],
   "source": [
    "# Initialize training hyperparameters\n",
    "EPOCHS = 300\n",
    "LEARN_R = 2e-3 "
   ]
  },
  {
   "cell_type": "code",
   "execution_count": 292,
   "metadata": {
    "colab": {
     "base_uri": "https://localhost:8080/"
    },
    "id": "5kfg76GMFtIW",
    "outputId": "e30cf68a-31f2-42b4-cc5e-860c297c0f04",
    "scrolled": true
   },
   "outputs": [
    {
     "name": "stdout",
     "output_type": "stream",
     "text": [
      "   0 ( 0.00%) Train loss: 100.858 \t Validation loss: 99.410\n",
      "  10 ( 3.33%) Train loss: 67.847 \t Validation loss: 67.041\n",
      "  20 ( 6.67%) Train loss: 47.131 \t Validation loss: 46.462\n",
      "  30 (10.00%) Train loss: 34.132 \t Validation loss: 33.337\n",
      "  40 (13.33%) Train loss: 25.974 \t Validation loss: 24.934\n",
      "  50 (16.67%) Train loss: 20.855 \t Validation loss: 19.529\n",
      "  60 (20.00%) Train loss: 17.643 \t Validation loss: 16.032\n",
      "  70 (23.33%) Train loss: 15.627 \t Validation loss: 13.755\n",
      "  80 (26.67%) Train loss: 14.362 \t Validation loss: 12.260\n",
      "  90 (30.00%) Train loss: 13.568 \t Validation loss: 11.270\n",
      " 100 (33.33%) Train loss: 13.070 \t Validation loss: 10.607\n",
      " 110 (36.67%) Train loss: 12.757 \t Validation loss: 10.159\n",
      " 120 (40.00%) Train loss: 12.561 \t Validation loss: 9.851\n",
      " 130 (43.33%) Train loss: 12.438 \t Validation loss: 9.638\n",
      " 140 (46.67%) Train loss: 12.361 \t Validation loss: 9.488\n",
      " 150 (50.00%) Train loss: 12.312 \t Validation loss: 9.381\n",
      " 160 (53.33%) Train loss: 12.282 \t Validation loss: 9.303\n",
      " 170 (56.67%) Train loss: 12.263 \t Validation loss: 9.247\n",
      " 180 (60.00%) Train loss: 12.251 \t Validation loss: 9.205\n",
      " 190 (63.33%) Train loss: 12.243 \t Validation loss: 9.173\n",
      " 200 (66.67%) Train loss: 12.238 \t Validation loss: 9.150\n",
      " 210 (70.00%) Train loss: 12.235 \t Validation loss: 9.131\n",
      " 220 (73.33%) Train loss: 12.233 \t Validation loss: 9.118\n",
      " 230 (76.67%) Train loss: 12.232 \t Validation loss: 9.107\n",
      " 240 (80.00%) Train loss: 12.232 \t Validation loss: 9.099\n",
      " 250 (83.33%) Train loss: 12.231 \t Validation loss: 9.092\n",
      " 260 (86.67%) Train loss: 12.231 \t Validation loss: 9.087\n",
      " 270 (90.00%) Train loss: 12.231 \t Validation loss: 9.083\n",
      " 280 (93.33%) Train loss: 12.230 \t Validation loss: 9.080\n",
      " 290 (96.67%) Train loss: 12.230 \t Validation loss: 9.078\n"
     ]
    }
   ],
   "source": [
    "train_loss = []\n",
    "val_loss = []\n",
    "\n",
    "for e in range(EPOCHS):\n",
    "     \n",
    "    # Forward pass and loss computation\n",
    "    Loss = squared_loss(y_train, forward(x_train, NN))\n",
    "\n",
    "    # Backward pass\n",
    "    Loss.backward()\n",
    "    \n",
    "    # gradient descent update\n",
    "    update_parameters(parameters(NN), LEARN_R)\n",
    "    zero_gradients(parameters(NN))\n",
    "    \n",
    "    # Training loss\n",
    "    train_loss.append(Loss.v)\n",
    "    \n",
    "    # Validation\n",
    "    Loss_validation = squared_loss(y_validation, forward(x_validation, NN))\n",
    "    val_loss.append(Loss_validation.v)\n",
    "    \n",
    "    if e%10==0:\n",
    "        print(\"{:4d}\".format(e),\n",
    "              \"({:5.2f}%)\".format(e/EPOCHS*100), \n",
    "              \"Train loss: {:4.3f} \\t Validation loss: {:4.3f}\".format(train_loss[-1], val_loss[-1]))\n",
    "        \n"
   ]
  },
  {
   "cell_type": "code",
   "execution_count": 293,
   "metadata": {
    "colab": {
     "base_uri": "https://localhost:8080/",
     "height": 265
    },
    "id": "VetyRWFwFtIY",
    "outputId": "344e490d-6d7d-455a-fa6f-88dd11eb957e"
   },
   "outputs": [
    {
     "data": {
      "image/png": "[encoded data removed]",
      "text/plain": [
       "<Figure size 432x288 with 1 Axes>"
      ]
     },
     "metadata": {
      "needs_background": "light"
     },
     "output_type": "display_data"
    }
   ],
   "source": [
    "plt.plot(range(len(train_loss)), train_loss);\n",
    "plt.plot(range(len(val_loss)), val_loss);"
   ]
  },
  {
   "cell_type": "markdown",
   "metadata": {
    "id": "8OgmIrM9FtIb"
   },
   "source": [
    "# Testing\n",
    "\n",
    "We have kept the calculation of the test error separate in order to emphasize that you should not use the test set in optimization."
   ]
  },
  {
   "cell_type": "code",
   "execution_count": 296,
   "metadata": {
    "id": "HmNi7S-vFtIc"
   },
   "outputs": [],
   "source": [
    "output_test = forward(x_test, NN)"
   ]
  },
  {
   "cell_type": "code",
   "execution_count": 297,
   "metadata": {
    "colab": {
     "base_uri": "https://localhost:8080/",
     "height": 316
    },
    "id": "7mmJOTSEFtIf",
    "outputId": "e3264095-cefe-4aee-893d-bf152438e332"
   },
   "outputs": [
    {
     "name": "stdout",
     "output_type": "stream",
     "text": [
      "Test loss:  9.491\n"
     ]
    },
    {
     "data": {
      "image/png": "[encoded data removed]",
      "text/plain": [
       "<Figure size 432x288 with 1 Axes>"
      ]
     },
     "metadata": {
      "needs_background": "light"
     },
     "output_type": "display_data"
    }
   ],
   "source": [
    "y_test_np = Var_to_nparray(y_test)\n",
    "plt.scatter(y_test_np, Var_to_nparray(output_test));\n",
    "plt.plot([np.min(y_test_np), np.max(y_test_np)], [np.min(y_test_np), np.max(y_test_np)], color='k');\n",
    "plt.xlabel(\"y\");\n",
    "plt.ylabel(\"$\\hat{y}$\");\n",
    "plt.title(\"Model prediction vs real in the test set, the close to the line the better\")\n",
    "plt.grid(True);\n",
    "plt.axis('equal');\n",
    "plt.tight_layout();\n",
    "\n",
    "Loss_test = squared_loss(y_test, forward(x_test, NN))\n",
    "\n",
    "print(\"Test loss:  {:4.3f}\".format(Loss_test.v))"
   ]
  },
  {
   "cell_type": "code",
   "execution_count": 298,
   "metadata": {
    "colab": {
     "base_uri": "https://localhost:8080/",
     "height": 279
    },
    "id": "ODi0WlmQFtIh",
    "outputId": "d1ab874f-0717-4987-87bf-1f0c7c8e7148"
   },
   "outputs": [
    {
     "data": {
      "image/png": "[encoded data removed]",
      "text/plain": [
       "<Figure size 432x288 with 1 Axes>"
      ]
     },
     "metadata": {
      "needs_background": "light"
     },
     "output_type": "display_data"
    }
   ],
   "source": [
    "x_test_np = Var_to_nparray(x_test)\n",
    "x_train_np = Var_to_nparray(x_train)\n",
    "y_train_np = Var_to_nparray(y_train)\n",
    "if D1:\n",
    "    plt.scatter(x_train_np, y_train_np, label=\"train data\");\n",
    "    plt.scatter(x_test_np, Var_to_nparray(output_test), label=\"test prediction\");\n",
    "    plt.scatter(x_test_np, y_test_np, label=\"test data\");\n",
    "    plt.legend();\n",
    "    plt.xlabel(\"x\");\n",
    "    plt.ylabel(\"y\");\n",
    "else:\n",
    "    plt.scatter(x_train_np[:,1], y_train, label=\"train data\");\n",
    "    plt.scatter(x_test_np[:,1], Var_to_nparray(output_test), label=\"test data prediction\");\n",
    "    plt.scatter(x_test_np[:,1], y_test_np, label=\"test data\");\n",
    "    plt.legend();\n",
    "    plt.xlabel(\"x\");\n",
    "    plt.ylabel(\"y\");"
   ]
  },
  {
   "cell_type": "markdown",
   "metadata": {
    "id": "zTBAmjsAFtIk"
   },
   "source": [
    "## Exercise k) Show overfitting, underfitting and just right fitting\n",
    "\n",
    "Vary the architecture and other things to show clear signs of overfitting (=training loss significantly lower than test loss) and underfitting (=not fitting enoung to training data so that test performance is also hurt).\n",
    "\n",
    "See also if you can get a good compromise which leads to a low validation loss. \n",
    "\n",
    "For this problem do you see any big difference between validation and test loss? The answer here will probably be no. Discuss cases where it is important to keep the two separate.\n",
    "\n",
    "_Insert written answer here._\n",
    "Adding additional layers to the neural network architecture and increasing the number of epochs leads to overfitting. \n",
    "\n",
    "Underfitting: Sigmoid activation function in multiple layers has significantly decreased the overall network's performance \n",
    "\n",
    "The validation set should provide a good evaluation of a model which is fit on the training dataset \n",
    "while calculating/tuning the hyperparameters. That's why it is very important to keep these things separately.\n",
    "\n",
    "\n"
   ]
  },
  {
   "cell_type": "code",
   "execution_count": 300,
   "metadata": {
    "id": "tQZCn2dxFtIl"
   },
   "outputs": [],
   "source": [
    "# Insert your code for getting overfitting, underfitting and just right fitting\n",
    "\n"
   ]
  },
  {
   "cell_type": "markdown",
   "metadata": {
    "id": "fYPZP-eTFtIo"
   },
   "source": [
    "# Next steps - classification\n",
    "\n",
    "It is straight forward to extend what we have done to classification. \n",
    "\n",
    "For numerical stability it is better to make softmax and cross-entropy as one function so we write the cross entropy loss as a function of the logits we talked about last week. \n",
    "\n",
    "Next week we will see how to perform classification in PyTorch."
   ]
  },
  {
   "cell_type": "markdown",
   "metadata": {
    "id": "qsVPul3QFtIo"
   },
   "source": [
    "## Exercise l) optional - Implement backpropagation for classification\n",
    "\n",
    "Should be possible with very few lines of code. :-)"
   ]
  },
  {
   "cell_type": "code",
   "execution_count": 302,
   "metadata": {
    "id": "oC8QrI2tFtIp"
   },
   "outputs": [
    {
     "ename": "SyntaxError",
     "evalue": "invalid syntax (<ipython-input-302-1fdea5f7bac7>, line 4)",
     "output_type": "error",
     "traceback": [
      "\u001b[0;36m  File \u001b[0;32m\"<ipython-input-302-1fdea5f7bac7>\"\u001b[0;36m, line \u001b[0;32m4\u001b[0m\n\u001b[0;31m    Loss.backward()\u001b[0m\n\u001b[0m    ^\u001b[0m\n\u001b[0;31mSyntaxError\u001b[0m\u001b[0;31m:\u001b[0m invalid syntax\n"
     ]
    }
   ],
   "source": [
    "# Just add code. \n",
    "#For classification problem we should use cross_entropy_loss\n",
    "Loss = cross_entropy_loss((y_train, forward(x_train, NN))\n",
    "Loss.backward()\n"
   ]
  },
  {
   "cell_type": "markdown",
   "metadata": {
    "id": "APqhJv3tta1O"
   },
   "source": [
    "## Exercise m) optional - Introduce a NeuralNetwork class\n",
    "\n",
    "The functions we applied on the neural network (parameters, update_parameters and zero_gradients) can more naturally be included as methods in a NeuralNetwork class. Make such a class and modify the code to use it. "
   ]
  }
 ],
 "metadata": {
  "anaconda-cloud": {},
  "colab": {
   "name": "2.1-FNN-AutoDif-Nanograd.ipynb",
   "provenance": []
  },
  "kernelspec": {
   "display_name": "Python 3",
   "language": "python",
   "name": "python3"
  },
  "language_info": {
   "codemirror_mode": {
    "name": "ipython",
    "version": 3
   },
   "file_extension": ".py",
   "mimetype": "text/x-python",
   "name": "python",
   "nbconvert_exporter": "python",
   "pygments_lexer": "ipython3",
   "version": "3.8.3"
  }
 },
 "nbformat": 4,
 "nbformat_minor": 1
}
